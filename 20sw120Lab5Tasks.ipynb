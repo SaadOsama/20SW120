{
  "nbformat": 4,
  "nbformat_minor": 0,
  "metadata": {
    "colab": {
      "provenance": [],
      "authorship_tag": "ABX9TyOLevRPtz/kzpE7VmJ+Yu4J",
      "include_colab_link": true
    },
    "kernelspec": {
      "name": "python3",
      "display_name": "Python 3"
    },
    "language_info": {
      "name": "python"
    }
  },
  "cells": [
    {
      "cell_type": "markdown",
      "metadata": {
        "id": "view-in-github",
        "colab_type": "text"
      },
      "source": [
        "<a href=\"https://colab.research.google.com/github/SaadOsama/20SW120/blob/main/20sw120Lab5Tasks.ipynb\" target=\"_parent\"><img src=\"https://colab.research.google.com/assets/colab-badge.svg\" alt=\"Open In Colab\"/></a>"
      ]
    },
    {
      "cell_type": "code",
      "execution_count": 2,
      "metadata": {
        "colab": {
          "base_uri": "https://localhost:8080/"
        },
        "id": "PLHGYTeIR1bD",
        "outputId": "29d6c39d-c709-4fc7-c02a-5c846908b7f8"
      },
      "outputs": [
        {
          "output_type": "stream",
          "name": "stdout",
          "text": [
            "Distance from Sun:\n",
            "Earth       149.6\n",
            "Saturn     1433.5\n",
            "Mars        227.9\n",
            "Venus       108.2\n",
            "Jupiter     778.6\n",
            "dtype: float64\n",
            "\n",
            "Time for sunlight to reach planets (minutes):\n",
            "Earth       8.311111\n",
            "Saturn     79.638889\n",
            "Mars       12.661111\n",
            "Venus       6.011111\n",
            "Jupiter    43.255556\n",
            "dtype: float64\n",
            "\n",
            "Close planets (sunlight takes less than 40 minutes):\n",
            "Earth     8.311111\n",
            "Mars     12.661111\n",
            "Venus     6.011111\n",
            "dtype: float64\n"
          ]
        }
      ],
      "source": [
        "import pandas as pd\n",
        "\n",
        "\n",
        "distance_from_sun = [149.6, 1433.5, 227.9, 108.2, 778.6]\n",
        "planets = ['Earth', 'Saturn', 'Mars', 'Venus', 'Jupiter']\n",
        "\n",
        "\n",
        "dist_planets = pd.Series(distance_from_sun, index=planets)\n",
        "\n",
        "\n",
        "time_light = dist_planets / speed_of_light\n",
        "\n",
        "\n",
        "close_planets = time_light[time_light < 40]\n",
        "\n",
        "print(\"Distance from Sun:\")\n",
        "print(dist_planets)\n",
        "print(\"\\nTime for sunlight to reach planets (minutes):\")\n",
        "print(time_light)\n",
        "print(\"\\nClose planets (sunlight takes less than 40 minutes):\")\n",
        "print(close_planets)"
      ]
    },
    {
      "cell_type": "code",
      "source": [
        "\n",
        "import pandas as pd\n",
        "import numpy as np\n",
        "\n",
        "# Set the display precision of dataframes to one decimal place\n",
        "pd.set_option('display.precision', 1)\n",
        "\n",
        "# Create Pandas Series for books, authors, and user ratings\n",
        "books = pd.Series(data=['Great Expectations', 'Of Mice and Men', 'Romeo and Juliet', 'The Time Machine', 'Alice in Wonderland'])\n",
        "authors = pd.Series(data=['Charles Dickens', 'John Steinbeck', 'William Shakespeare', 'H. G. Wells', 'Lewis Carroll'])\n",
        "user_1 = pd.Series(data=[3.2, np.nan, 2.5])\n",
        "user_2 = pd.Series(data=[5., 1.3, 4.0, 3.8])\n",
        "user_3 = pd.Series(data=[2.0, 2.3, np.nan, 4])\n",
        "user_4 = pd.Series(data=[4, 3.5, 4, 5, 4.2])\n",
        "\n",
        "# Create a dictionary with the data\n",
        "data = {\n",
        "    'Author': authors,\n",
        "    'Book Title': books,\n",
        "    'User 1': user_1,\n",
        "    'User 2': user_2,\n",
        "    'User 3': user_3,\n",
        "    'User 4': user_4\n",
        "}\n",
        "\n",
        "# Use the dictionary to create a Pandas DataFrame\n",
        "book_ratings = pd.DataFrame(data)\n",
        "\n",
        "# Replace NaN values with the average rating in each column\n",
        "average_ratings = book_ratings.mean()\n",
        "book_ratings.fillna(average_ratings, inplace=True)\n",
        "\n",
        "# Display the final DataFrame\n",
        "print(\"Final DataFrame:\")\n",
        "print(book_ratings)\n",
        "\n",
        "# Pick books that had a rating of 5\n",
        "best_rated = book_ratings[(book_ratings == 5).any(axis=1)]['Book Title']\n",
        "\n",
        "# Display books with a rating of 5\n",
        "print(\"\\nBooks with a rating of 5:\")\n",
        "print(best_rated)\n",
        "\n"
      ],
      "metadata": {
        "colab": {
          "base_uri": "https://localhost:8080/"
        },
        "id": "dCdCm8pjSXJq",
        "outputId": "877ed077-e767-423a-b4db-2cb254674559"
      },
      "execution_count": 8,
      "outputs": [
        {
          "output_type": "stream",
          "name": "stdout",
          "text": [
            "Final DataFrame:\n",
            "                Author           Book Title  User 1  User 2  User 3  User 4\n",
            "0      Charles Dickens   Great Expectations     3.2     5.0     2.0     4.0\n",
            "1       John Steinbeck      Of Mice and Men     2.9     1.3     2.3     3.5\n",
            "2  William Shakespeare     Romeo and Juliet     2.5     4.0     2.8     4.0\n",
            "3          H. G. Wells     The Time Machine     2.9     3.8     4.0     5.0\n",
            "4        Lewis Carroll  Alice in Wonderland     2.9     3.5     2.8     4.2\n",
            "\n",
            "Books with a rating of 5:\n",
            "0    Great Expectations\n",
            "3      The Time Machine\n",
            "Name: Book Title, dtype: object\n"
          ]
        },
        {
          "output_type": "stream",
          "name": "stderr",
          "text": [
            "<ipython-input-8-ca2784f1bab5>:29: FutureWarning: The default value of numeric_only in DataFrame.mean is deprecated. In a future version, it will default to False. In addition, specifying 'numeric_only=None' is deprecated. Select only valid columns or specify the value of numeric_only to silence this warning.\n",
            "  average_ratings = book_ratings.mean()\n"
          ]
        }
      ]
    }
  ]
}